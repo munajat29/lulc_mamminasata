{
 "cells": [
  {
   "cell_type": "code",
   "execution_count": 1,
   "id": "c69ec927-ae24-4357-a9da-e47c22d5c152",
   "metadata": {},
   "outputs": [],
   "source": [
    "import rasterio\n",
    "import numpy as np\n",
    "import joblib\n",
    "from rasterio.plot import reshape_as_image\n",
    "import pandas as pd\n",
    "import os"
   ]
  },
  {
   "cell_type": "code",
   "execution_count": 9,
   "id": "dd5a15a9-959c-4bde-91c3-d072ad628dd2",
   "metadata": {},
   "outputs": [],
   "source": [
    "raster_dir = r\"C:\\Penelitian S3\\Analisis Perubahan Lahan\\Landsat 8\\2024\"\n",
    "texture_dir = r\"C:\\Penelitian S3\\Analisis Perubahan Lahan\\Landsat 8\\2024\"\n",
    "model_path = r\"C:\\Penelitian S3\\Analisis Perubahan Lahan\\rf_model_landsat89.pkl\"\n",
    "output_path = r\"C:\\Penelitian S3\\Analisis Perubahan Lahan\\output lulc\\classified_lulc_2024_rf.tif\""
   ]
  },
  {
   "cell_type": "code",
   "execution_count": 10,
   "id": "08dad214-aba5-493c-98e9-3b0a7eb8b610",
   "metadata": {},
   "outputs": [],
   "source": [
    "slope_path = r\"C:\\Penelitian S3\\Analisis Perubahan Lahan\\Spatial Data\\slope30m_resampled.tif\"\n",
    "aspect_path = r\"C:\\Penelitian S3\\Analisis Perubahan Lahan\\Spatial Data\\aspect30m_resampled.tif\""
   ]
  },
  {
   "cell_type": "code",
   "execution_count": 11,
   "id": "28b63b35-9997-4f50-812b-da0cd323df79",
   "metadata": {},
   "outputs": [],
   "source": [
    "raster_files = {\n",
    "    \"SR\": \"L8_2024_SR_Bands.tif\",\n",
    "    \"NDVI\": \"L8_2024_NDVI.tif\",\n",
    "    \"EVI\": \"L8_2024_EVI.tif\",\n",
    "    \"SAVI\": \"L8_2024_SAVI.tif\",\n",
    "    \"NDWI\": \"L8_2024_NDWI.tif\",\n",
    "    \"NDBI\": \"L8_2024_NDBI.tif\",\n",
    "    \"NDMI\": \"L8_2024_NDMI.tif\",\n",
    "    \"BSI\": \"L8_2024_BSI.tif\",\n",
    "    \"MNDWI\": \"L8_2024_MNDWI.tif\",\n",
    "}"
   ]
  },
  {
   "cell_type": "code",
   "execution_count": 12,
   "id": "ca717c08-ac4e-43dd-9f75-d6ebeac21d60",
   "metadata": {},
   "outputs": [],
   "source": [
    "texture_files = [\n",
    "    \"output67e191d23d8342118d844d0c8905a119_ASM.tif\",\n",
    "    \"output67e191d23d8342118d844d0c8905a119_Contr.tif\",\n",
    "    \"output67e191d23d8342118d844d0c8905a119_Corr.tif\",\n",
    "    \"output67e191d23d8342118d844d0c8905a119_Entr.tif\",\n",
    "    \"output67e191d23d8342118d844d0c8905a119_IDM.tif\",\n",
    "    \"output67e191d23d8342118d844d0c8905a119_Var.tif\"\n",
    "]\n",
    "texture_names = [\"ASM\", \"Contrast\", \"Correlation\", \"Entropy\", \"IDM\", \"Variance\"]"
   ]
  },
  {
   "cell_type": "code",
   "execution_count": 13,
   "id": "b653aa45-322e-4231-ad0d-bf6557cdfadd",
   "metadata": {},
   "outputs": [],
   "source": [
    "bands_list = []"
   ]
  },
  {
   "cell_type": "code",
   "execution_count": 14,
   "id": "1dd05f24-368b-43d1-86d3-d0adab541c5d",
   "metadata": {},
   "outputs": [],
   "source": [
    "with rasterio.open(os.path.join(raster_dir, raster_files[\"SR\"])) as src:\n",
    "    sr_data = src.read([1, 2, 3, 4, 5, 6])\n",
    "    profile = src.profile\n",
    "    height, width = src.height, src.width\n",
    "    bands_list.extend([sr_data[i, :, :] for i in range(sr_data.shape[0])])"
   ]
  },
  {
   "cell_type": "code",
   "execution_count": 15,
   "id": "59114870-877b-44b1-bf37-89c799006a72",
   "metadata": {},
   "outputs": [],
   "source": [
    "for idx in [\"NDVI\", \"EVI\", \"SAVI\", \"NDWI\", \"NDBI\", \"NDMI\", \"BSI\", \"MNDWI\"]:\n",
    "    with rasterio.open(os.path.join(raster_dir, raster_files[idx])) as src:\n",
    "        bands_list.append(src.read(1))"
   ]
  },
  {
   "cell_type": "code",
   "execution_count": 16,
   "id": "e01da3d8-c790-4e2b-b34a-8ff8e3a727e3",
   "metadata": {},
   "outputs": [],
   "source": [
    "for path in [slope_path, aspect_path]:\n",
    "    with rasterio.open(path) as src:\n",
    "        bands_list.append(src.read(1))"
   ]
  },
  {
   "cell_type": "code",
   "execution_count": 17,
   "id": "ddf7e566-dfbe-4af5-b71a-31e3753d779a",
   "metadata": {},
   "outputs": [],
   "source": [
    "for fname in texture_files:\n",
    "    with rasterio.open(os.path.join(texture_dir, fname)) as src:\n",
    "        bands_list.append(src.read(1))"
   ]
  },
  {
   "cell_type": "code",
   "execution_count": 18,
   "id": "e816452c-64b4-4cff-99ab-69e802fee598",
   "metadata": {},
   "outputs": [
    {
     "name": "stdout",
     "output_type": "stream",
     "text": [
      "\n",
      "Cek shape semua band:\n",
      "Band 1: shape = (3000, 2242)\n",
      "Band 2: shape = (3000, 2242)\n",
      "Band 3: shape = (3000, 2242)\n",
      "Band 4: shape = (3000, 2242)\n",
      "Band 5: shape = (3000, 2242)\n",
      "Band 6: shape = (3000, 2242)\n",
      "Band 7: shape = (3000, 2242)\n",
      "Band 8: shape = (3000, 2242)\n",
      "Band 9: shape = (3000, 2242)\n",
      "Band 10: shape = (3000, 2242)\n",
      "Band 11: shape = (3000, 2242)\n",
      "Band 12: shape = (3000, 2242)\n",
      "Band 13: shape = (3000, 2242)\n",
      "Band 14: shape = (3000, 2242)\n",
      "Band 15: shape = (3000, 2242)\n",
      "Band 16: shape = (3000, 2242)\n",
      "Band 17: shape = (3000, 2242)\n",
      "Band 18: shape = (3000, 2242)\n",
      "Band 19: shape = (3000, 2242)\n",
      "Band 20: shape = (3000, 2242)\n",
      "Band 21: shape = (3000, 2242)\n",
      "Band 22: shape = (3000, 2242)\n"
     ]
    }
   ],
   "source": [
    "print(\"\\nCek shape semua band:\")\n",
    "for i, band in enumerate(bands_list):\n",
    "    print(f\"Band {i+1}: shape = {band.shape}\")"
   ]
  },
  {
   "cell_type": "code",
   "execution_count": 19,
   "id": "546d20d6-6577-4b3a-b6b8-baef7d5ba317",
   "metadata": {},
   "outputs": [],
   "source": [
    "stacked = np.stack(bands_list, axis=0)\n",
    "reshaped = reshape_as_image(stacked)\n",
    "flat_pixels = reshaped.reshape(-1, reshaped.shape[-1])"
   ]
  },
  {
   "cell_type": "code",
   "execution_count": 20,
   "id": "4de51feb-e7dc-4cb5-83c2-db419be91a2f",
   "metadata": {},
   "outputs": [],
   "source": [
    "feature_names = [\n",
    "    \"SR_B2\", \"SR_B3\", \"SR_B4\", \"SR_B5\", \"SR_B6\", \"SR_B7\",\n",
    "    \"NDVI\", \"EVI\", \"SAVI\", \"NDWI\", \"NDBI\", \"NDMI\", \"BSI\", \"MNDWI\",\n",
    "    \"Slope\", \"Aspect\"\n",
    "] + texture_names\n",
    "\n",
    "df = pd.DataFrame(flat_pixels, columns=feature_names)"
   ]
  },
  {
   "cell_type": "code",
   "execution_count": 21,
   "id": "e103261a-1910-4d11-85b8-6f4e7161fa0c",
   "metadata": {},
   "outputs": [],
   "source": [
    "df[\"NDWI_IDM\"] = df[\"NDWI\"] / (df[\"IDM\"] + 1e-6)\n",
    "df[\"MNDWI_Contrast\"] = df[\"MNDWI\"] * df[\"Contrast\"]\n",
    "df[\"NDMI_Entropy\"] = df[\"NDMI\"] * df[\"Entropy\"]"
   ]
  },
  {
   "cell_type": "code",
   "execution_count": 22,
   "id": "f4895f1e-f7d9-4514-b7e3-968f5c78bf90",
   "metadata": {},
   "outputs": [],
   "source": [
    "flat_pixels_extended = df.to_numpy()"
   ]
  },
  {
   "cell_type": "code",
   "execution_count": 23,
   "id": "79f92243-3234-4c24-9275-b07c3e10fa02",
   "metadata": {},
   "outputs": [
    {
     "name": "stdout",
     "output_type": "stream",
     "text": [
      "\n",
      " Loading model dan klasifikasi...\n"
     ]
    },
    {
     "name": "stderr",
     "output_type": "stream",
     "text": [
      "C:\\Users\\ASUS\\miniconda3\\envs\\rc_env\\Lib\\site-packages\\sklearn\\utils\\validation.py:2739: UserWarning: X does not have valid feature names, but RandomForestClassifier was fitted with feature names\n",
      "  warnings.warn(\n"
     ]
    }
   ],
   "source": [
    "print(\"\\n Loading model dan klasifikasi...\")\n",
    "valid_mask = ~np.any(np.isnan(flat_pixels_extended), axis=1)\n",
    "\n",
    "model = joblib.load(model_path)\n",
    "predicted = np.full(flat_pixels_extended.shape[0], 0, dtype=np.uint8)\n",
    "predicted[valid_mask] = model.predict(flat_pixels_extended[valid_mask])"
   ]
  },
  {
   "cell_type": "code",
   "execution_count": 24,
   "id": "8d650bcb-a7ac-4d37-b9dd-8ebeb06ed195",
   "metadata": {},
   "outputs": [],
   "source": [
    "classified = predicted.reshape(height, width)"
   ]
  },
  {
   "cell_type": "code",
   "execution_count": 25,
   "id": "1a6c02db-d9a2-4472-9847-8a0257bfb9af",
   "metadata": {},
   "outputs": [
    {
     "name": "stdout",
     "output_type": "stream",
     "text": [
      "\n",
      " Raster klasifikasi disimpan di:\n",
      "C:\\Penelitian S3\\Analisis Perubahan Lahan\\output lulc\\classified_lulc_2024_rf.tif\n"
     ]
    }
   ],
   "source": [
    "profile.update(dtype=rasterio.uint8, count=1, compress='lzw', BIGTIFF='YES')\n",
    "os.makedirs(os.path.dirname(output_path), exist_ok=True)\n",
    "with rasterio.open(output_path, 'w', **profile) as dst:\n",
    "    dst.write(classified.astype(rasterio.uint8), 1)\n",
    "\n",
    "print(f\"\\n Raster klasifikasi disimpan di:\\n{output_path}\")"
   ]
  },
  {
   "cell_type": "code",
   "execution_count": null,
   "id": "6216d357-ae24-4c75-9753-d5c076d1d893",
   "metadata": {},
   "outputs": [],
   "source": []
  }
 ],
 "metadata": {
  "kernelspec": {
   "display_name": "Python 3 (ipykernel)",
   "language": "python",
   "name": "python3"
  },
  "language_info": {
   "codemirror_mode": {
    "name": "ipython",
    "version": 3
   },
   "file_extension": ".py",
   "mimetype": "text/x-python",
   "name": "python",
   "nbconvert_exporter": "python",
   "pygments_lexer": "ipython3",
   "version": "3.13.0"
  }
 },
 "nbformat": 4,
 "nbformat_minor": 5
}
