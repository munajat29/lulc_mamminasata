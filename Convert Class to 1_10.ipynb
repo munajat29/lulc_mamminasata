{
 "cells": [
  {
   "cell_type": "code",
   "execution_count": 5,
   "id": "53872ce9-ff3c-4ff2-a7dd-eec0561662eb",
   "metadata": {},
   "outputs": [],
   "source": [
    "import rasterio\n",
    "import numpy as np\n",
    "import os"
   ]
  },
  {
   "cell_type": "code",
   "execution_count": 9,
   "id": "2c5f2451-e407-436d-8fa1-462b3bbf2341",
   "metadata": {},
   "outputs": [],
   "source": [
    "def reclassify_rf_raster(input_path, output_path):\n",
    "    with rasterio.open(input_path) as src:\n",
    "        profile = src.profile\n",
    "        data = src.read(1)\n",
    "\n",
    "        nodata_val = profile.get('nodata')\n",
    "        if nodata_val is None:\n",
    "            nodata_val = 0\n",
    "            profile['nodata'] = nodata_val\n",
    "\n",
    "        data_reclass = np.where(np.isin(data, [0, 1]), 1, data)\n",
    "\n",
    "        with rasterio.open(output_path, 'w', **profile) as dst:\n",
    "            dst.write(data_reclass, 1)\n",
    "\n",
    "    print(f\"Raster RF berhasil direklasifikasi dan disimpan ke:\\n{output_path}\")"
   ]
  },
  {
   "cell_type": "code",
   "execution_count": 10,
   "id": "23820b6d-ed8a-4f37-bead-7850182e4c92",
   "metadata": {},
   "outputs": [],
   "source": [
    "base_dir = r\"C:\\Penelitian S3\\Analisis Perubahan Lahan\\output lulc\"\n",
    "rf_file = \"classified_lulc_2005_rf.tif\""
   ]
  },
  {
   "cell_type": "code",
   "execution_count": 11,
   "id": "c91e561c-ce1d-4de9-a57f-24fc5314e83f",
   "metadata": {},
   "outputs": [
    {
     "name": "stdout",
     "output_type": "stream",
     "text": [
      "Raster RF berhasil direklasifikasi dan disimpan ke:\n",
      "C:\\Penelitian S3\\Analisis Perubahan Lahan\\output lulc\\classified_lulc_2005_rf_1to10.tif\n"
     ]
    }
   ],
   "source": [
    "rf_in = os.path.join(base_dir, rf_file)\n",
    "rf_out = rf_in.replace(\".tif\", \"_1to10.tif\")\n",
    "reclassify_rf_raster(rf_in, rf_out)"
   ]
  },
  {
   "cell_type": "code",
   "execution_count": null,
   "id": "37d7474b-8a00-499a-b2ba-334294f075c6",
   "metadata": {},
   "outputs": [],
   "source": []
  }
 ],
 "metadata": {
  "kernelspec": {
   "display_name": "Python 3 (ipykernel)",
   "language": "python",
   "name": "python3"
  },
  "language_info": {
   "codemirror_mode": {
    "name": "ipython",
    "version": 3
   },
   "file_extension": ".py",
   "mimetype": "text/x-python",
   "name": "python",
   "nbconvert_exporter": "python",
   "pygments_lexer": "ipython3",
   "version": "3.13.0"
  }
 },
 "nbformat": 4,
 "nbformat_minor": 5
}
